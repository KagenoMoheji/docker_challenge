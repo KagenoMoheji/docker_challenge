{
 "cells": [
  {
   "cell_type": "code",
   "execution_count": 7,
   "metadata": {
    "lines_to_next_cell": 0
   },
   "outputs": [
    {
     "name": "stdout",
     "output_type": "stream",
     "text": [
      "hello\n",
      "\n",
      "-------[process_timer_sec]-------\n",
      "function: hello\n",
      "time: 0.0002803802490234375[sec]\n",
      "---------------------------------\n",
      "\n",
      "\n",
      "-------[process_timer_sec]-------\n",
      "function: plus\n",
      "time: 3.5762786865234375e-06[sec]\n",
      "---------------------------------\n",
      "\n",
      "5\n"
     ]
    }
   ],
   "source": [
    "import sys\n",
    "sys.path.append(\"../\")\n",
    "from modules.tools.timers import process_timer_sec\n",
    "\n",
    "@process_timer_sec\n",
    "def hello():\n",
    "    print(\"hello\")\n",
    "hello()\n",
    "\n",
    "@process_timer_sec\n",
    "def plus(a, b):\n",
    "    return a + b\n",
    "print(plus(1, 4))\n"
   ]
  },
  {
   "cell_type": "code",
   "execution_count": null,
   "metadata": {
    "lines_to_next_cell": 2
   },
   "outputs": [],
   "source": []
  }
 ],
 "metadata": {
  "jupytext": {
   "encoding": "# -*- coding: utf-8 -*-",
   "text_representation": {
    "extension": ".py",
    "format_name": "light",
    "format_version": "1.5",
    "jupytext_version": "1.7.1"
   }
  },
  "kernelspec": {
   "display_name": "Python 3",
   "language": "python",
   "name": "python3"
  },
  "language_info": {
   "codemirror_mode": {
    "name": "ipython",
    "version": 3
   },
   "file_extension": ".py",
   "mimetype": "text/x-python",
   "name": "python",
   "nbconvert_exporter": "python",
   "pygments_lexer": "ipython3",
   "version": "3.7.9"
  }
 },
 "nbformat": 4,
 "nbformat_minor": 4
}
