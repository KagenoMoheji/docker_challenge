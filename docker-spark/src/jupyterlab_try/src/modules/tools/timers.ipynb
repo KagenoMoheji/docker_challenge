{
 "cells": [
  {
   "cell_type": "code",
   "execution_count": null,
   "metadata": {},
   "outputs": [],
   "source": [
    "import time\n",
    "\n",
    "def process_timer_sec(func):\n",
    "    def run(*args, **kwargs):\n",
    "        start = time.time()\n",
    "        ret = func(*args, **kwargs)\n",
    "        print (\"\"\"\n",
    "-------[process_timer_sec]-------\n",
    "function: {0}\n",
    "time: {1}[sec]\n",
    "---------------------------------\n",
    "\"\"\".format(\n",
    "            func.__name__,\n",
    "            time.time() - start\n",
    "        ))\n",
    "        return ret\n",
    "    return run"
   ]
  }
 ],
 "metadata": {
  "jupytext": {
   "text_representation": {
    "extension": ".py",
    "format_name": "light",
    "format_version": "1.5",
    "jupytext_version": "1.7.1"
   }
  },
  "kernelspec": {
   "display_name": "Python 3",
   "language": "python",
   "name": "python3"
  },
  "language_info": {
   "codemirror_mode": {
    "name": "ipython",
    "version": 3
   },
   "file_extension": ".py",
   "mimetype": "text/x-python",
   "name": "python",
   "nbconvert_exporter": "python",
   "pygments_lexer": "ipython3",
   "version": "3.7.9"
  }
 },
 "nbformat": 4,
 "nbformat_minor": 4
}
